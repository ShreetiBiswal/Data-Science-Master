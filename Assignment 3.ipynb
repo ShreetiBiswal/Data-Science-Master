{
 "cells": [
  {
   "cell_type": "code",
   "execution_count": 2,
   "id": "8c030138-b366-476d-b9eb-273b02e154e9",
   "metadata": {},
   "outputs": [
    {
     "name": "stdout",
     "output_type": "stream",
     "text": [
      "1\n",
      "3\n",
      "5\n",
      "7\n",
      "9\n",
      "11\n",
      "13\n",
      "15\n",
      "17\n",
      "19\n",
      "21\n",
      "23\n"
     ]
    }
   ],
   "source": [
    "#Q1\n",
    "# 'def' keyword is used to declare a function\n",
    "\n",
    "def odd(l):\n",
    "    for i in l:\n",
    "        if(i%2==1):\n",
    "            print(i)\n",
    "    \n",
    "odd(range(25))        "
   ]
  },
  {
   "cell_type": "code",
   "execution_count": 13,
   "id": "455b1ebc-b8ec-48e1-a724-a2c9156cda68",
   "metadata": {},
   "outputs": [
    {
     "name": "stdout",
     "output_type": "stream",
     "text": [
      "1\n",
      "<class 'tuple'>\n",
      "dict_keys(['a', 'b', 'c'])\n",
      "<class 'dict'>\n"
     ]
    }
   ],
   "source": [
    "#Q2\n",
    "# *args is used to take variable inputs. It takes the input in form of tupule.\n",
    "def varib_input(*args):\n",
    "    print(args[0])\n",
    "    return args\n",
    "\n",
    "print(type(varib_input(1,2,3,4,5)))#returned type is a tupule\n",
    "\n",
    "# **kwargs is used to take input in dictionary format in key value pair.\n",
    "def dict_input(**kwargs):\n",
    "    print(kwargs.keys())\n",
    "    return kwargs\n",
    "\n",
    "print(type(dict_input(a=1,b=2,c='shreeti')))#dictionary is returned"
   ]
  },
  {
   "cell_type": "code",
   "execution_count": 24,
   "id": "3702a690-d635-4952-87fe-d93a66328b11",
   "metadata": {},
   "outputs": [
    {
     "name": "stdout",
     "output_type": "stream",
     "text": [
      "<class 'list_iterator'>\n",
      "2\n",
      "4\n",
      "6\n",
      "8\n",
      "10\n"
     ]
    }
   ],
   "source": [
    "#Q3\n",
    "#Iterator are type of objects that can be iterated from one element to next one by one.\n",
    "#Iterable objcts can be converted into iterators bu using 'iter()' method. Ww can iterate using 'next()' method.\n",
    "\n",
    "l=[]\n",
    "for i in range(2,22):\n",
    "    if(i%2==0):\n",
    "        l.append(i)\n",
    "         \n",
    "il=iter(l)\n",
    "print(type(il))#list iterator initialised\n",
    "\n",
    "for i in range(5):\n",
    "    print(next(il))"
   ]
  },
  {
   "cell_type": "code",
   "execution_count": 1,
   "id": "63dfb1e5-5b41-40c8-b829-d3e258d7af42",
   "metadata": {},
   "outputs": [
    {
     "name": "stdout",
     "output_type": "stream",
     "text": [
      "<class 'generator'>\n",
      "1\n",
      "3\n",
      "5\n",
      "7\n",
      "9\n",
      "11\n",
      "13\n",
      "15\n",
      "17\n",
      "19\n"
     ]
    }
   ],
   "source": [
    "#Q4\n",
    "#gererator fun in python are used for creating values instantaneously and not store those values so does not consume storage.\n",
    "# 'yield' keyword is used to create generator function. eg:-\n",
    "\n",
    "def odd():\n",
    "    for i in range (21):\n",
    "        if(i%2!=0):\n",
    "            \n",
    "            yield i\n",
    "l=odd() \n",
    "print(type(l))#l is a generator fun object\n",
    "\n",
    "for i in range(10):\n",
    "    print(next(l))#using next we can iterate l\n",
    "\n",
    "    "
   ]
  },
  {
   "cell_type": "code",
   "execution_count": 4,
   "id": "b4c09969-e0d1-4619-b758-ea594a5d34ca",
   "metadata": {},
   "outputs": [
    {
     "name": "stdout",
     "output_type": "stream",
     "text": [
      "<generator object prime_1000 at 0x7f06c44cf140>\n",
      "2\n",
      "3\n",
      "5\n",
      "7\n",
      "11\n",
      "13\n",
      "17\n",
      "19\n",
      "23\n",
      "29\n",
      "31\n",
      "37\n",
      "41\n",
      "43\n",
      "47\n",
      "53\n",
      "59\n",
      "61\n",
      "67\n",
      "71\n"
     ]
    }
   ],
   "source": [
    "#Q5\n",
    "def prime(n):\n",
    "    c=0\n",
    "    for i in range(1,n):\n",
    "         if(n%i==0):\n",
    "                c=c+1\n",
    "                \n",
    "    return (c==1)\n",
    "\n",
    "prime(17)\n",
    "\n",
    "def prime_1000(r):\n",
    "    for i in r:\n",
    "        if(prime(i)):\n",
    "            yield i\n",
    "            \n",
    "l=prime_1000(range(1000))\n",
    "print(l) #l is generator object\n",
    "for i in range(20):\n",
    "           print(next(l))"
   ]
  },
  {
   "cell_type": "code",
   "execution_count": 4,
   "id": "b9b475d1-5206-4cab-9f56-fe571ab98b05",
   "metadata": {},
   "outputs": [
    {
     "name": "stdout",
     "output_type": "stream",
     "text": [
      "Enter how many fib no do you want to print\n"
     ]
    },
    {
     "name": "stdin",
     "output_type": "stream",
     "text": [
      " 10\n"
     ]
    },
    {
     "name": "stdout",
     "output_type": "stream",
     "text": [
      "0\n",
      "1\n",
      "1\n",
      "2\n",
      "3\n",
      "5\n",
      "8\n",
      "13\n",
      "21\n",
      "34\n"
     ]
    }
   ],
   "source": [
    "#Q6\n",
    "print('Enter how many fib no do you want to print')\n",
    "n=(int)(input())\n",
    "a,b,i=0,1,0\n",
    "\n",
    "while i<n:\n",
    "    if(i==0 or i==1):\n",
    "        print(i)\n",
    "        i=i+1\n",
    "    else:\n",
    "        print(a+b)\n",
    "        c=b\n",
    "        b=a+b\n",
    "        a=c\n",
    "        i=i+1\n",
    "        \n",
    "        "
   ]
  },
  {
   "cell_type": "code",
   "execution_count": 5,
   "id": "2fd65eb7-d5d5-4b45-ad8d-be50fe5ad3e9",
   "metadata": {},
   "outputs": [
    {
     "data": {
      "text/plain": [
       "['p', 'w', 's', 'k', 'i', 'l', 'l', 's']"
      ]
     },
     "execution_count": 5,
     "metadata": {},
     "output_type": "execute_result"
    }
   ],
   "source": [
    "#Q7\n",
    "#Using list comprehension\n",
    "s='pwskills'\n",
    "l=[i for i in s]\n",
    "l"
   ]
  },
  {
   "cell_type": "code",
   "execution_count": 10,
   "id": "a35693f5-2fb9-466c-a192-95109dd701fd",
   "metadata": {},
   "outputs": [
    {
     "name": "stdout",
     "output_type": "stream",
     "text": [
      "enter no you want to check as pallindrome\n"
     ]
    },
    {
     "name": "stdin",
     "output_type": "stream",
     "text": [
      " 12366321\n"
     ]
    },
    {
     "data": {
      "text/plain": [
       "True"
      ]
     },
     "execution_count": 10,
     "metadata": {},
     "output_type": "execute_result"
    }
   ],
   "source": [
    "#Q8\n",
    "\"to check wheather a number is pallindrome\"\n",
    "\n",
    "#code 1 by taking string input\n",
    "print('enter no you want to check as pallindrome')\n",
    "n=input()\n",
    "\n",
    "def str_pallindrome(n):\n",
    "    s2=''\n",
    "    for i in n:\n",
    "        s2=i+s2\n",
    "    return (s2==n)  \n",
    "\n",
    "str_pallindrome(n)"
   ]
  },
  {
   "cell_type": "code",
   "execution_count": 2,
   "id": "2111e37b-1abf-4ff1-9821-b8b9766663b9",
   "metadata": {},
   "outputs": [
    {
     "name": "stdout",
     "output_type": "stream",
     "text": [
      "enter no you want to check is pallindrome or not\n"
     ]
    },
    {
     "name": "stdin",
     "output_type": "stream",
     "text": [
      " 121\n"
     ]
    },
    {
     "data": {
      "text/plain": [
       "True"
      ]
     },
     "execution_count": 2,
     "metadata": {},
     "output_type": "execute_result"
    }
   ],
   "source": [
    "#Q8\n",
    "#code 2 taking int\n",
    "print('enter no you want to check is pallindrome or not')\n",
    "\n",
    "n=(int)(input())\n",
    "\n",
    "def int_pallindrome(n):\n",
    "    n2=0\n",
    "    k=n\n",
    "    while(k!=0):\n",
    "       \n",
    "        n2=n2*10+k%10\n",
    "        k=(int)(k/10)\n",
    "    \n",
    "    return(n==n2)\n",
    "\n",
    "int_pallindrome(n)"
   ]
  },
  {
   "cell_type": "code",
   "execution_count": 4,
   "id": "8d61f6c0-24e7-43a7-91dd-4629ee9b61a3",
   "metadata": {},
   "outputs": [
    {
     "ename": "SyntaxError",
     "evalue": "expected 'else' after 'if' expression (721428136.py, line 1)",
     "output_type": "error",
     "traceback": [
      "\u001b[0;36m  Cell \u001b[0;32mIn[4], line 1\u001b[0;36m\u001b[0m\n\u001b[0;31m    l=[i in range(1,101) if(i%2!=0)]\u001b[0m\n\u001b[0m       ^\u001b[0m\n\u001b[0;31mSyntaxError\u001b[0m\u001b[0;31m:\u001b[0m expected 'else' after 'if' expression\n"
     ]
    }
   ],
   "source": [
    "l=[for i in range(1,101) if(i%2!=0)]\n",
    "l"
   ]
  },
  {
   "cell_type": "code",
   "execution_count": null,
   "id": "45c7522c-d9b0-4c03-94ca-7d51cc10b111",
   "metadata": {},
   "outputs": [],
   "source": []
  }
 ],
 "metadata": {
  "kernelspec": {
   "display_name": "Python 3 (ipykernel)",
   "language": "python",
   "name": "python3"
  },
  "language_info": {
   "codemirror_mode": {
    "name": "ipython",
    "version": 3
   },
   "file_extension": ".py",
   "mimetype": "text/x-python",
   "name": "python",
   "nbconvert_exporter": "python",
   "pygments_lexer": "ipython3",
   "version": "3.10.8"
  }
 },
 "nbformat": 4,
 "nbformat_minor": 5
}
