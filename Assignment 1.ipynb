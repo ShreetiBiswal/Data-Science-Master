{
 "cells": [
  {
   "cell_type": "markdown",
   "id": "19b1a3cf-de2f-4391-8731-b1abe9abeeec",
   "metadata": {},
   "source": [
    "#Assignment 1"
   ]
  },
  {
   "cell_type": "code",
   "execution_count": 1,
   "id": "e355b1de-8d76-4c28-9d2e-9d2ffa93f67a",
   "metadata": {},
   "outputs": [],
   "source": [
    "#Q1\n",
    "#string\n",
    "s=\"shreeti\"\n",
    "#list\n",
    "list=[\"element\",34,23.43,True,5+7j]\n",
    "#float\n",
    "f=25.098\n",
    "#tupule\n",
    "tup=(\"good\",90,6.09)"
   ]
  },
  {
   "cell_type": "code",
   "execution_count": 7,
   "id": "9d8f7dfd-b40f-4e59-8378-830bb32de539",
   "metadata": {},
   "outputs": [
    {
     "name": "stdout",
     "output_type": "stream",
     "text": [
      "<class 'str'>\n",
      "<class 'str'>\n",
      "<class 'list'>\n",
      "<class 'float'>\n"
     ]
    }
   ],
   "source": [
    "#Q2\n",
    "var1 ='' #string \n",
    "var2 = '[ DS , ML , Python]' #string\n",
    "var3 = [ 'DS' , 'ML' , 'Python' ] #list\n",
    "var4 = 1. #float\n",
    "\n",
    "l=[var1,var2,var3,var4]\n",
    "\n",
    "for i in l:\n",
    "    print(type(i))"
   ]
  },
  {
   "cell_type": "code",
   "execution_count": 11,
   "id": "6b559a73-c06e-4ad3-9f50-c308f0eb68e3",
   "metadata": {},
   "outputs": [
    {
     "name": "stdout",
     "output_type": "stream",
     "text": [
      "1.5\n",
      "17\n",
      "2\n",
      "1024\n"
     ]
    }
   ],
   "source": [
    "#Q3\n",
    "\n",
    "# / is the divide operator, a type of arithmetic operator used to give quotient and returns float\n",
    "print(3/2) #ans=1.5\n",
    "\n",
    "# % is the modulus operator, gives the remainder\n",
    "print(357%34) #ans=17\n",
    "\n",
    "# // is the floor funtion operator gives floor value on division\n",
    "print(9//4) #ans=2\n",
    "\n",
    "# ** is the power operator , a**b gives value of a^b\n",
    "print(2**10) #ans=1024"
   ]
  },
  {
   "cell_type": "code",
   "execution_count": 13,
   "id": "29a1260c-95d1-434a-91f8-2133e91e5c66",
   "metadata": {},
   "outputs": [
    {
     "name": "stdout",
     "output_type": "stream",
     "text": [
      "i\n",
      "<class 'str'>\n",
      "2000\n",
      "<class 'int'>\n",
      "8.0\n",
      "<class 'float'>\n",
      "(3+9j)\n",
      "<class 'complex'>\n",
      "1\n",
      "<class 'int'>\n",
      "False\n",
      "<class 'bool'>\n",
      "['inner list', 7, 9]\n",
      "<class 'list'>\n",
      "pw\n",
      "<class 'str'>\n",
      "22\n",
      "<class 'int'>\n",
      "('j', 99)\n",
      "<class 'tuple'>\n"
     ]
    }
   ],
   "source": [
    "#Q4 create a list and print data type\n",
    "\n",
    "list=['i',2000,8.0,3+9j,1,False,['inner list',7,9],\"pw\",22,('j',99)]\n",
    "for i in list:\n",
    "    print(i)\n",
    "    print(type(i))\n",
    "    \n",
    "#OUTPUT:-\n",
    "# i\n",
    "#<class 'str'>\n",
    "#2000\n",
    "#<class 'int'>\n",
    "#8.0\n",
    "#<class 'float'>\n",
    "#(3+9j)\n",
    "#<class 'complex'>\n",
    "#1\n",
    "#<class 'int'>\n",
    "#False\n",
    "#<class 'bool'>\n",
    "#['inner list', 7, 9]\n",
    "#<class 'list'>\n",
    "#pw\n",
    "#<class 'str'>\n",
    "#22\n",
    "#<class 'int'>\n",
    "#('j', 99)\n",
    "#<class 'tuple'>"
   ]
  },
  {
   "cell_type": "code",
   "execution_count": 22,
   "id": "42b35cdd-b41d-4432-bfa8-cd3f9a15d793",
   "metadata": {},
   "outputs": [
    {
     "name": "stdout",
     "output_type": "stream",
     "text": [
      "enter 1st no:\n"
     ]
    },
    {
     "name": "stdin",
     "output_type": "stream",
     "text": [
      " 50\n"
     ]
    },
    {
     "name": "stdout",
     "output_type": "stream",
     "text": [
      "enter 2nd no:\n"
     ]
    },
    {
     "name": "stdin",
     "output_type": "stream",
     "text": [
      " 2\n"
     ]
    },
    {
     "name": "stdout",
     "output_type": "stream",
     "text": [
      "1\n",
      "times divisible\n"
     ]
    }
   ],
   "source": [
    "#Q5 Using a while loop, verify if the number A is purely divisible by number B and if so then how many times divisible\n",
    "\n",
    "print('enter 1st no:')\n",
    "A=(int)(input())\n",
    "print('enter 2nd no:')\n",
    "B=(int)(input())\n",
    "c=0\n",
    "if A%B==0:\n",
    "    \n",
    "    while A%B==0:\n",
    "        c=c+1\n",
    "        A/=B\n",
    "    else:\n",
    "        print(c)\n",
    "        print('times divisible')\n",
    "else:\n",
    "    print('not divisible')\n",
    "    "
   ]
  },
  {
   "cell_type": "code",
   "execution_count": 24,
   "id": "a57716f9-a45f-4dea-9d82-759f7dda379d",
   "metadata": {},
   "outputs": [
    {
     "name": "stdout",
     "output_type": "stream",
     "text": [
      "3\n",
      "6\n",
      "9\n",
      "12\n",
      "15\n",
      "18\n",
      "21\n",
      "24\n"
     ]
    }
   ],
   "source": [
    "#Q6 list containing 25 int type data. Using for loop and if-else condition print if the element is divisible by 3 or not.\n",
    "\n",
    "i=0\n",
    "list=[1,2,3,4,5,6,7,8,9,10,11,12,13,14,15,16,17,18,19,20,21,22,23,24,25]\n",
    "\n",
    "for i in list:\n",
    "    if i%3==0:\n",
    "        print(i)\n",
    "#OUTPUT:\n",
    "#3\n",
    "#6\n",
    "#9\n",
    "#12\n",
    "#15\n",
    "#18\n",
    "#21\n",
    "#24\n",
    "  \n"
   ]
  },
  {
   "cell_type": "code",
   "execution_count": 25,
   "id": "45835998-9f76-4ee0-9233-e6764c26b529",
   "metadata": {},
   "outputs": [
    {
     "ename": "SyntaxError",
     "evalue": "invalid syntax (2225036130.py, line 8)",
     "output_type": "error",
     "traceback": [
      "\u001b[0;36m  Cell \u001b[0;32mIn[25], line 8\u001b[0;36m\u001b[0m\n\u001b[0;31m    st.[0]=7\u001b[0m\n\u001b[0m       ^\u001b[0m\n\u001b[0;31mSyntaxError\u001b[0m\u001b[0;31m:\u001b[0m invalid syntax\n"
     ]
    }
   ],
   "source": [
    "#Q7  mutable and immutable data types\n",
    "\n",
    "# in mutable data types we can change value of elements at an index eg.lists\n",
    "# in immutable data types we cant alter the data of particular index eg.string\n",
    "list=[2,7,8]\n",
    "list[1]==\"word\" #here we can change vale of 1th index that is 7 to \"word\"\n",
    "st=\"word\"\n",
    "# st.[0]=7 this statem"
   ]
  },
  {
   "cell_type": "code",
   "execution_count": null,
   "id": "43ce3bd1-0856-4964-8c6e-2615ce5f7aad",
   "metadata": {},
   "outputs": [],
   "source": []
  }
 ],
 "metadata": {
  "kernelspec": {
   "display_name": "Python 3 (ipykernel)",
   "language": "python",
   "name": "python3"
  },
  "language_info": {
   "codemirror_mode": {
    "name": "ipython",
    "version": 3
   },
   "file_extension": ".py",
   "mimetype": "text/x-python",
   "name": "python",
   "nbconvert_exporter": "python",
   "pygments_lexer": "ipython3",
   "version": "3.10.8"
  }
 },
 "nbformat": 4,
 "nbformat_minor": 5
}
