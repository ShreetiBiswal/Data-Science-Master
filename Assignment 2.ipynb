{
 "cells": [
  {
   "cell_type": "code",
   "execution_count": 9,
   "id": "7857d495-f1fd-4418-9fb7-ee6afd640f62",
   "metadata": {},
   "outputs": [
    {
     "name": "stdout",
     "output_type": "stream",
     "text": [
      "the above line is not printed as part of code\n"
     ]
    }
   ],
   "source": [
    "#Q1\n",
    "# We can comment in python by using '#'\n",
    "# There are 2 types of commenting in python:-\n",
    "# i) we can use single '#' to comment each line or\n",
    "# ii)we can use ''' to declare a string type comment eg:-\n",
    "\n",
    "'''it can be used as a comment and does not interfere with code'''\n",
    "print(\"the above line is not printed as part of code\")"
   ]
  },
  {
   "cell_type": "code",
   "execution_count": 11,
   "id": "7458ebaf-17c0-45d2-9339-986b5fa21827",
   "metadata": {},
   "outputs": [
    {
     "data": {
      "text/plain": [
       "5"
      ]
     },
     "execution_count": 11,
     "metadata": {},
     "output_type": "execute_result"
    }
   ],
   "source": [
    "#Q2\n",
    "\n",
    "# Variables are used to store a single data in python\n",
    "# variables can be declared just by typing its name, which is upto our choice\n",
    "# and for assigning we use the '=' operator. eg:-\n",
    "a=5\n",
    "#variable a has an integer value 5\n",
    "a"
   ]
  },
  {
   "cell_type": "code",
   "execution_count": 12,
   "id": "6be6fd44-df91-4def-8ea0-6ee22e0339be",
   "metadata": {},
   "outputs": [
    {
     "name": "stdout",
     "output_type": "stream",
     "text": [
      "<class 'int'>\n",
      "<class 'str'>\n"
     ]
    }
   ],
   "source": [
    "#Q3\n",
    "# We can convert one data type to other favourable data type by using type casting.\n",
    "# Using it on unfavourable data type like form srting to interger shows error. eg-\n",
    "\n",
    "a=5\n",
    "print(type(a))#a is integer\n",
    "a=(str)(a)#a gets changed to string\n",
    "print(type(a))"
   ]
  },
  {
   "cell_type": "code",
   "execution_count": 13,
   "id": "a9509f97-d8d9-4575-b3ae-555732921445",
   "metadata": {},
   "outputs": [],
   "source": [
    "#Q4\n",
    "# We can write a python file in any text file and to execute it in the command line we \n",
    "# must write python or python3 depending on version that we have after the path of the file"
   ]
  },
  {
   "cell_type": "code",
   "execution_count": 14,
   "id": "2e8c2b3d-46de-43be-85e2-51e3264ef6cf",
   "metadata": {},
   "outputs": [
    {
     "data": {
      "text/plain": [
       "[2, 3]"
      ]
     },
     "execution_count": 14,
     "metadata": {},
     "output_type": "execute_result"
    }
   ],
   "source": [
    "#Q5\n",
    "my_list=[1,2,3,4,5]\n",
    "my_list[1:3]"
   ]
  },
  {
   "cell_type": "code",
   "execution_count": 15,
   "id": "057b5c22-1989-4d97-a7cf-93834fc204c9",
   "metadata": {},
   "outputs": [
    {
     "data": {
      "text/plain": [
       "complex"
      ]
     },
     "execution_count": 15,
     "metadata": {},
     "output_type": "execute_result"
    }
   ],
   "source": [
    "#Q6\n",
    "# In order to express unreal numbers i.e the square roots of -ve no the concept of\n",
    "# complex numbers was introduced where root over of -1 is represented as i (iota).\n",
    "\n",
    "# in python complex numbers are represented in the same way but root over of -1\n",
    "# is represented by j. eg-\n",
    "\n",
    "complx=3+4j\n",
    "type(complx)"
   ]
  },
  {
   "cell_type": "code",
   "execution_count": 22,
   "id": "a7be9ea1-8e8e-499a-90a9-007f029604bb",
   "metadata": {},
   "outputs": [],
   "source": [
    "#Q7\n",
    "# To declare a variable correctly, its name must not start with numbers or \n",
    "# special characters. And to assign use = operator.\n",
    "age=25"
   ]
  },
  {
   "cell_type": "code",
   "execution_count": 24,
   "id": "9f13e46a-f839-4911-b662-405aa4d8a7e1",
   "metadata": {},
   "outputs": [
    {
     "data": {
      "text/plain": [
       "float"
      ]
     },
     "execution_count": 24,
     "metadata": {},
     "output_type": "execute_result"
    }
   ],
   "source": [
    "#Q8\n",
    "price=9.99 #it belongs to float data type\n",
    "type(price)"
   ]
  },
  {
   "cell_type": "code",
   "execution_count": 25,
   "id": "446e4805-49db-408a-ac35-270e80c50752",
   "metadata": {},
   "outputs": [
    {
     "name": "stdout",
     "output_type": "stream",
     "text": [
      "Shreeti Biswal\n"
     ]
    }
   ],
   "source": [
    "#Q9\n",
    "name=\"Shreeti Biswal\"\n",
    "#to print we use the print function:-\n",
    "print(name)"
   ]
  },
  {
   "cell_type": "code",
   "execution_count": 27,
   "id": "336566e0-00a2-406c-a73b-63b154e5fd84",
   "metadata": {},
   "outputs": [
    {
     "data": {
      "text/plain": [
       "''"
      ]
     },
     "execution_count": 27,
     "metadata": {},
     "output_type": "execute_result"
    }
   ],
   "source": [
    "#Q10\n",
    "string=\"Hello, World!\"\n",
    "string[-2:-7]"
   ]
  },
  {
   "cell_type": "code",
   "execution_count": null,
   "id": "d4d1816e-cbb8-4264-89fd-45a2d1d5d6c9",
   "metadata": {},
   "outputs": [],
   "source": []
  }
 ],
 "metadata": {
  "kernelspec": {
   "display_name": "Python 3 (ipykernel)",
   "language": "python",
   "name": "python3"
  },
  "language_info": {
   "codemirror_mode": {
    "name": "ipython",
    "version": 3
   },
   "file_extension": ".py",
   "mimetype": "text/x-python",
   "name": "python",
   "nbconvert_exporter": "python",
   "pygments_lexer": "ipython3",
   "version": "3.10.8"
  }
 },
 "nbformat": 4,
 "nbformat_minor": 5
}
